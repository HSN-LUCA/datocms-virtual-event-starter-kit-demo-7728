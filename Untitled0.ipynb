{
  "nbformat": 4,
  "nbformat_minor": 0,
  "metadata": {
    "colab": {
      "name": "Untitled0.ipynb",
      "provenance": [],
      "authorship_tag": "ABX9TyP5oNS8weG8HDmHwWco+V/p",
      "include_colab_link": true
    },
    "kernelspec": {
      "name": "python3",
      "display_name": "Python 3"
    },
    "language_info": {
      "name": "python"
    }
  },
  "cells": [
    {
      "cell_type": "markdown",
      "metadata": {
        "id": "view-in-github",
        "colab_type": "text"
      },
      "source": [
        "<a href=\"https://colab.research.google.com/github/HSN-LUCA/datocms-virtual-event-starter-kit-demo-7728/blob/master/Untitled0.ipynb\" target=\"_parent\"><img src=\"https://colab.research.google.com/assets/colab-badge.svg\" alt=\"Open In Colab\"/></a>"
      ]
    },
    {
      "cell_type": "code",
      "execution_count": 5,
      "metadata": {
        "colab": {
          "base_uri": "https://localhost:8080/"
        },
        "id": "SJc3aVAGPzYq",
        "outputId": "87311f18-f58e-4a8a-c40e-73eda265f6ff"
      },
      "outputs": [
        {
          "output_type": "execute_result",
          "data": {
            "text/plain": [
              "<bound method NDFrame.head of      1995   7      0    0.1    0.2    0.3    0.4  297.5  306.2  322.2  ...  \\\n",
              "0    1995   8    0.0    0.0    0.0  224.0  250.8  291.9  324.3  342.1  ...   \n",
              "1    1995   9  125.7  133.5  154.2  184.1  229.0  290.6  341.2  354.3  ...   \n",
              "2    1995  10  133.7  136.7  152.8  186.2  240.4  292.0  329.7  347.8  ...   \n",
              "3    1995  11  169.0  202.6  221.9  247.3  272.4  302.9  324.8  331.3  ...   \n",
              "4    1995  12    0.0  265.0  275.5  286.7  292.4  301.1  307.7  304.9  ...   \n",
              "..    ...  ..    ...    ...    ...    ...    ...    ...    ...    ...  ...   \n",
              "300  2020   8    0.0    0.0    0.0  237.6  272.1  298.8  319.4  327.5  ...   \n",
              "301  2020   9  122.4  139.7  160.6  183.5  222.3  282.3  330.1  347.8  ...   \n",
              "302  2020  10  122.4  129.9  146.2  179.4  229.8  283.2  324.0  340.7  ...   \n",
              "303  2020  11  147.1  154.4  168.3  195.9  240.7  286.8  313.6  322.8  ...   \n",
              "304  2020  12  220.4  226.7  239.0  257.5  273.7  289.5  300.2  300.5  ...   \n",
              "\n",
              "     306.2.1  318.4  326.3  326.2  319.6  311.8  305.4  304.2  301.2  298.4  \n",
              "0      295.5  304.3  309.4  307.9  302.0  297.2  290.5  283.5  280.6  280.4  \n",
              "1      289.0  295.8  299.7  298.9  294.2  289.1  285.8  281.3  277.5  274.7  \n",
              "2      285.2  292.8  297.5  299.4  299.1  297.5  292.4  283.7  272.8    0.0  \n",
              "3      299.8  308.3  312.3  311.8  316.6  316.0  297.9    0.0    0.0    0.0  \n",
              "4      326.2  335.1  334.1  327.7  329.9  336.0    0.0    0.0    0.0    0.0  \n",
              "..       ...    ...    ...    ...    ...    ...    ...    ...    ...    ...  \n",
              "300    291.1  302.1  309.1  308.6  301.7  295.8  288.9  280.8  270.5  263.3  \n",
              "301    282.8  288.6  296.1  300.1  298.3  293.3  289.3  286.7  278.6  267.0  \n",
              "302    277.5  289.9  301.2  307.8  309.0  307.1  301.0  283.7  257.3    0.0  \n",
              "303    287.4  299.5  309.7  315.8  320.2  325.2  326.6    0.0    0.0    0.0  \n",
              "304    316.0  329.0  335.6  338.8  348.4  341.7    0.0    0.0    0.0    0.0  \n",
              "\n",
              "[305 rows x 38 columns]>"
            ]
          },
          "metadata": {},
          "execution_count": 5
        }
      ],
      "source": [
        "import matplotlib.pyplot as plt\n",
        "import matplotlib.pyplot as mpl\n",
        "from math import cos,sin,pi\n",
        "import numpy as np\n",
        "import pandas as pd\n",
        "\n",
        "#reading file\n",
        "\n",
        "data=pd.read_csv('https://raw.githubusercontent.com/HSN-LUCA/plot/main/datafile.csv')\n",
        "data.head"
      ]
    },
    {
      "cell_type": "code",
      "source": [
        "x = np.arange (0,0,1)\n",
        "x"
      ],
      "metadata": {
        "colab": {
          "base_uri": "https://localhost:8080/"
        },
        "id": "F5tEAnshQUDB",
        "outputId": "771b8fba-9980-47ee-e075-23bf05c56d47"
      },
      "execution_count": 54,
      "outputs": [
        {
          "output_type": "execute_result",
          "data": {
            "text/plain": [
              "array([], dtype=int64)"
            ]
          },
          "metadata": {},
          "execution_count": 54
        }
      ]
    },
    {
      "cell_type": "code",
      "source": [
        "y = np.arange (2,36,1)\n",
        "y"
      ],
      "metadata": {
        "colab": {
          "base_uri": "https://localhost:8080/"
        },
        "id": "leiNjwRhRunB",
        "outputId": "720510e4-e82d-4ba0-cfbc-0100736943ad"
      },
      "execution_count": 51,
      "outputs": [
        {
          "output_type": "execute_result",
          "data": {
            "text/plain": [
              "array([ 2,  3,  4,  5,  6,  7,  8,  9, 10, 11, 12, 13, 14, 15, 16, 17, 18,\n",
              "       19, 20, 21, 22, 23, 24, 25, 26, 27, 28, 29, 30, 31, 32, 33, 34, 35])"
            ]
          },
          "metadata": {},
          "execution_count": 51
        }
      ]
    },
    {
      "cell_type": "code",
      "source": [
        "x,y = np.meshgrid(x,y)\n",
        "\n",
        "x"
      ],
      "metadata": {
        "colab": {
          "base_uri": "https://localhost:8080/"
        },
        "id": "SCEItOprRxkP",
        "outputId": "0191304a-1024-4e0f-b4f7-c2cc9fab5fa7"
      },
      "execution_count": 55,
      "outputs": [
        {
          "output_type": "execute_result",
          "data": {
            "text/plain": [
              "array([], shape=(34, 0), dtype=int64)"
            ]
          },
          "metadata": {},
          "execution_count": 55
        }
      ]
    },
    {
      "cell_type": "code",
      "source": [
        "y"
      ],
      "metadata": {
        "colab": {
          "base_uri": "https://localhost:8080/"
        },
        "id": "OrA9mtDAR3Zh",
        "outputId": "4fa9ef87-bcdf-42b3-9449-f4522a364b40"
      },
      "execution_count": 30,
      "outputs": [
        {
          "output_type": "execute_result",
          "data": {
            "text/plain": [
              "array([[ 0,  0,  0, ...,  0,  0,  0],\n",
              "       [ 1,  1,  1, ...,  1,  1,  1],\n",
              "       [ 2,  2,  2, ...,  2,  2,  2],\n",
              "       ...,\n",
              "       [35, 35, 35, ..., 35, 35, 35],\n",
              "       [36, 36, 36, ..., 36, 36, 36],\n",
              "       [37, 37, 37, ..., 37, 37, 37]])"
            ]
          },
          "metadata": {},
          "execution_count": 30
        }
      ]
    },
    {
      "cell_type": "code",
      "source": [
        "data"
      ],
      "metadata": {
        "colab": {
          "base_uri": "https://localhost:8080/",
          "height": 423
        },
        "id": "PLx3cqbeR6FI",
        "outputId": "fd4a5216-5318-4378-b0d0-a9922663186e"
      },
      "execution_count": 56,
      "outputs": [
        {
          "output_type": "execute_result",
          "data": {
            "text/plain": [
              "     1995   7      0    0.1    0.2    0.3    0.4  297.5  306.2  322.2  ...  \\\n",
              "0    1995   8    0.0    0.0    0.0  224.0  250.8  291.9  324.3  342.1  ...   \n",
              "1    1995   9  125.7  133.5  154.2  184.1  229.0  290.6  341.2  354.3  ...   \n",
              "2    1995  10  133.7  136.7  152.8  186.2  240.4  292.0  329.7  347.8  ...   \n",
              "3    1995  11  169.0  202.6  221.9  247.3  272.4  302.9  324.8  331.3  ...   \n",
              "4    1995  12    0.0  265.0  275.5  286.7  292.4  301.1  307.7  304.9  ...   \n",
              "..    ...  ..    ...    ...    ...    ...    ...    ...    ...    ...  ...   \n",
              "300  2020   8    0.0    0.0    0.0  237.6  272.1  298.8  319.4  327.5  ...   \n",
              "301  2020   9  122.4  139.7  160.6  183.5  222.3  282.3  330.1  347.8  ...   \n",
              "302  2020  10  122.4  129.9  146.2  179.4  229.8  283.2  324.0  340.7  ...   \n",
              "303  2020  11  147.1  154.4  168.3  195.9  240.7  286.8  313.6  322.8  ...   \n",
              "304  2020  12  220.4  226.7  239.0  257.5  273.7  289.5  300.2  300.5  ...   \n",
              "\n",
              "     306.2.1  318.4  326.3  326.2  319.6  311.8  305.4  304.2  301.2  298.4  \n",
              "0      295.5  304.3  309.4  307.9  302.0  297.2  290.5  283.5  280.6  280.4  \n",
              "1      289.0  295.8  299.7  298.9  294.2  289.1  285.8  281.3  277.5  274.7  \n",
              "2      285.2  292.8  297.5  299.4  299.1  297.5  292.4  283.7  272.8    0.0  \n",
              "3      299.8  308.3  312.3  311.8  316.6  316.0  297.9    0.0    0.0    0.0  \n",
              "4      326.2  335.1  334.1  327.7  329.9  336.0    0.0    0.0    0.0    0.0  \n",
              "..       ...    ...    ...    ...    ...    ...    ...    ...    ...    ...  \n",
              "300    291.1  302.1  309.1  308.6  301.7  295.8  288.9  280.8  270.5  263.3  \n",
              "301    282.8  288.6  296.1  300.1  298.3  293.3  289.3  286.7  278.6  267.0  \n",
              "302    277.5  289.9  301.2  307.8  309.0  307.1  301.0  283.7  257.3    0.0  \n",
              "303    287.4  299.5  309.7  315.8  320.2  325.2  326.6    0.0    0.0    0.0  \n",
              "304    316.0  329.0  335.6  338.8  348.4  341.7    0.0    0.0    0.0    0.0  \n",
              "\n",
              "[305 rows x 38 columns]"
            ],
            "text/html": [
              "\n",
              "  <div id=\"df-1acaa047-4385-4f6d-a90f-7933565b7eb4\">\n",
              "    <div class=\"colab-df-container\">\n",
              "      <div>\n",
              "<style scoped>\n",
              "    .dataframe tbody tr th:only-of-type {\n",
              "        vertical-align: middle;\n",
              "    }\n",
              "\n",
              "    .dataframe tbody tr th {\n",
              "        vertical-align: top;\n",
              "    }\n",
              "\n",
              "    .dataframe thead th {\n",
              "        text-align: right;\n",
              "    }\n",
              "</style>\n",
              "<table border=\"1\" class=\"dataframe\">\n",
              "  <thead>\n",
              "    <tr style=\"text-align: right;\">\n",
              "      <th></th>\n",
              "      <th>1995</th>\n",
              "      <th>7</th>\n",
              "      <th>0</th>\n",
              "      <th>0.1</th>\n",
              "      <th>0.2</th>\n",
              "      <th>0.3</th>\n",
              "      <th>0.4</th>\n",
              "      <th>297.5</th>\n",
              "      <th>306.2</th>\n",
              "      <th>322.2</th>\n",
              "      <th>...</th>\n",
              "      <th>306.2.1</th>\n",
              "      <th>318.4</th>\n",
              "      <th>326.3</th>\n",
              "      <th>326.2</th>\n",
              "      <th>319.6</th>\n",
              "      <th>311.8</th>\n",
              "      <th>305.4</th>\n",
              "      <th>304.2</th>\n",
              "      <th>301.2</th>\n",
              "      <th>298.4</th>\n",
              "    </tr>\n",
              "  </thead>\n",
              "  <tbody>\n",
              "    <tr>\n",
              "      <th>0</th>\n",
              "      <td>1995</td>\n",
              "      <td>8</td>\n",
              "      <td>0.0</td>\n",
              "      <td>0.0</td>\n",
              "      <td>0.0</td>\n",
              "      <td>224.0</td>\n",
              "      <td>250.8</td>\n",
              "      <td>291.9</td>\n",
              "      <td>324.3</td>\n",
              "      <td>342.1</td>\n",
              "      <td>...</td>\n",
              "      <td>295.5</td>\n",
              "      <td>304.3</td>\n",
              "      <td>309.4</td>\n",
              "      <td>307.9</td>\n",
              "      <td>302.0</td>\n",
              "      <td>297.2</td>\n",
              "      <td>290.5</td>\n",
              "      <td>283.5</td>\n",
              "      <td>280.6</td>\n",
              "      <td>280.4</td>\n",
              "    </tr>\n",
              "    <tr>\n",
              "      <th>1</th>\n",
              "      <td>1995</td>\n",
              "      <td>9</td>\n",
              "      <td>125.7</td>\n",
              "      <td>133.5</td>\n",
              "      <td>154.2</td>\n",
              "      <td>184.1</td>\n",
              "      <td>229.0</td>\n",
              "      <td>290.6</td>\n",
              "      <td>341.2</td>\n",
              "      <td>354.3</td>\n",
              "      <td>...</td>\n",
              "      <td>289.0</td>\n",
              "      <td>295.8</td>\n",
              "      <td>299.7</td>\n",
              "      <td>298.9</td>\n",
              "      <td>294.2</td>\n",
              "      <td>289.1</td>\n",
              "      <td>285.8</td>\n",
              "      <td>281.3</td>\n",
              "      <td>277.5</td>\n",
              "      <td>274.7</td>\n",
              "    </tr>\n",
              "    <tr>\n",
              "      <th>2</th>\n",
              "      <td>1995</td>\n",
              "      <td>10</td>\n",
              "      <td>133.7</td>\n",
              "      <td>136.7</td>\n",
              "      <td>152.8</td>\n",
              "      <td>186.2</td>\n",
              "      <td>240.4</td>\n",
              "      <td>292.0</td>\n",
              "      <td>329.7</td>\n",
              "      <td>347.8</td>\n",
              "      <td>...</td>\n",
              "      <td>285.2</td>\n",
              "      <td>292.8</td>\n",
              "      <td>297.5</td>\n",
              "      <td>299.4</td>\n",
              "      <td>299.1</td>\n",
              "      <td>297.5</td>\n",
              "      <td>292.4</td>\n",
              "      <td>283.7</td>\n",
              "      <td>272.8</td>\n",
              "      <td>0.0</td>\n",
              "    </tr>\n",
              "    <tr>\n",
              "      <th>3</th>\n",
              "      <td>1995</td>\n",
              "      <td>11</td>\n",
              "      <td>169.0</td>\n",
              "      <td>202.6</td>\n",
              "      <td>221.9</td>\n",
              "      <td>247.3</td>\n",
              "      <td>272.4</td>\n",
              "      <td>302.9</td>\n",
              "      <td>324.8</td>\n",
              "      <td>331.3</td>\n",
              "      <td>...</td>\n",
              "      <td>299.8</td>\n",
              "      <td>308.3</td>\n",
              "      <td>312.3</td>\n",
              "      <td>311.8</td>\n",
              "      <td>316.6</td>\n",
              "      <td>316.0</td>\n",
              "      <td>297.9</td>\n",
              "      <td>0.0</td>\n",
              "      <td>0.0</td>\n",
              "      <td>0.0</td>\n",
              "    </tr>\n",
              "    <tr>\n",
              "      <th>4</th>\n",
              "      <td>1995</td>\n",
              "      <td>12</td>\n",
              "      <td>0.0</td>\n",
              "      <td>265.0</td>\n",
              "      <td>275.5</td>\n",
              "      <td>286.7</td>\n",
              "      <td>292.4</td>\n",
              "      <td>301.1</td>\n",
              "      <td>307.7</td>\n",
              "      <td>304.9</td>\n",
              "      <td>...</td>\n",
              "      <td>326.2</td>\n",
              "      <td>335.1</td>\n",
              "      <td>334.1</td>\n",
              "      <td>327.7</td>\n",
              "      <td>329.9</td>\n",
              "      <td>336.0</td>\n",
              "      <td>0.0</td>\n",
              "      <td>0.0</td>\n",
              "      <td>0.0</td>\n",
              "      <td>0.0</td>\n",
              "    </tr>\n",
              "    <tr>\n",
              "      <th>...</th>\n",
              "      <td>...</td>\n",
              "      <td>...</td>\n",
              "      <td>...</td>\n",
              "      <td>...</td>\n",
              "      <td>...</td>\n",
              "      <td>...</td>\n",
              "      <td>...</td>\n",
              "      <td>...</td>\n",
              "      <td>...</td>\n",
              "      <td>...</td>\n",
              "      <td>...</td>\n",
              "      <td>...</td>\n",
              "      <td>...</td>\n",
              "      <td>...</td>\n",
              "      <td>...</td>\n",
              "      <td>...</td>\n",
              "      <td>...</td>\n",
              "      <td>...</td>\n",
              "      <td>...</td>\n",
              "      <td>...</td>\n",
              "      <td>...</td>\n",
              "    </tr>\n",
              "    <tr>\n",
              "      <th>300</th>\n",
              "      <td>2020</td>\n",
              "      <td>8</td>\n",
              "      <td>0.0</td>\n",
              "      <td>0.0</td>\n",
              "      <td>0.0</td>\n",
              "      <td>237.6</td>\n",
              "      <td>272.1</td>\n",
              "      <td>298.8</td>\n",
              "      <td>319.4</td>\n",
              "      <td>327.5</td>\n",
              "      <td>...</td>\n",
              "      <td>291.1</td>\n",
              "      <td>302.1</td>\n",
              "      <td>309.1</td>\n",
              "      <td>308.6</td>\n",
              "      <td>301.7</td>\n",
              "      <td>295.8</td>\n",
              "      <td>288.9</td>\n",
              "      <td>280.8</td>\n",
              "      <td>270.5</td>\n",
              "      <td>263.3</td>\n",
              "    </tr>\n",
              "    <tr>\n",
              "      <th>301</th>\n",
              "      <td>2020</td>\n",
              "      <td>9</td>\n",
              "      <td>122.4</td>\n",
              "      <td>139.7</td>\n",
              "      <td>160.6</td>\n",
              "      <td>183.5</td>\n",
              "      <td>222.3</td>\n",
              "      <td>282.3</td>\n",
              "      <td>330.1</td>\n",
              "      <td>347.8</td>\n",
              "      <td>...</td>\n",
              "      <td>282.8</td>\n",
              "      <td>288.6</td>\n",
              "      <td>296.1</td>\n",
              "      <td>300.1</td>\n",
              "      <td>298.3</td>\n",
              "      <td>293.3</td>\n",
              "      <td>289.3</td>\n",
              "      <td>286.7</td>\n",
              "      <td>278.6</td>\n",
              "      <td>267.0</td>\n",
              "    </tr>\n",
              "    <tr>\n",
              "      <th>302</th>\n",
              "      <td>2020</td>\n",
              "      <td>10</td>\n",
              "      <td>122.4</td>\n",
              "      <td>129.9</td>\n",
              "      <td>146.2</td>\n",
              "      <td>179.4</td>\n",
              "      <td>229.8</td>\n",
              "      <td>283.2</td>\n",
              "      <td>324.0</td>\n",
              "      <td>340.7</td>\n",
              "      <td>...</td>\n",
              "      <td>277.5</td>\n",
              "      <td>289.9</td>\n",
              "      <td>301.2</td>\n",
              "      <td>307.8</td>\n",
              "      <td>309.0</td>\n",
              "      <td>307.1</td>\n",
              "      <td>301.0</td>\n",
              "      <td>283.7</td>\n",
              "      <td>257.3</td>\n",
              "      <td>0.0</td>\n",
              "    </tr>\n",
              "    <tr>\n",
              "      <th>303</th>\n",
              "      <td>2020</td>\n",
              "      <td>11</td>\n",
              "      <td>147.1</td>\n",
              "      <td>154.4</td>\n",
              "      <td>168.3</td>\n",
              "      <td>195.9</td>\n",
              "      <td>240.7</td>\n",
              "      <td>286.8</td>\n",
              "      <td>313.6</td>\n",
              "      <td>322.8</td>\n",
              "      <td>...</td>\n",
              "      <td>287.4</td>\n",
              "      <td>299.5</td>\n",
              "      <td>309.7</td>\n",
              "      <td>315.8</td>\n",
              "      <td>320.2</td>\n",
              "      <td>325.2</td>\n",
              "      <td>326.6</td>\n",
              "      <td>0.0</td>\n",
              "      <td>0.0</td>\n",
              "      <td>0.0</td>\n",
              "    </tr>\n",
              "    <tr>\n",
              "      <th>304</th>\n",
              "      <td>2020</td>\n",
              "      <td>12</td>\n",
              "      <td>220.4</td>\n",
              "      <td>226.7</td>\n",
              "      <td>239.0</td>\n",
              "      <td>257.5</td>\n",
              "      <td>273.7</td>\n",
              "      <td>289.5</td>\n",
              "      <td>300.2</td>\n",
              "      <td>300.5</td>\n",
              "      <td>...</td>\n",
              "      <td>316.0</td>\n",
              "      <td>329.0</td>\n",
              "      <td>335.6</td>\n",
              "      <td>338.8</td>\n",
              "      <td>348.4</td>\n",
              "      <td>341.7</td>\n",
              "      <td>0.0</td>\n",
              "      <td>0.0</td>\n",
              "      <td>0.0</td>\n",
              "      <td>0.0</td>\n",
              "    </tr>\n",
              "  </tbody>\n",
              "</table>\n",
              "<p>305 rows × 38 columns</p>\n",
              "</div>\n",
              "      <button class=\"colab-df-convert\" onclick=\"convertToInteractive('df-1acaa047-4385-4f6d-a90f-7933565b7eb4')\"\n",
              "              title=\"Convert this dataframe to an interactive table.\"\n",
              "              style=\"display:none;\">\n",
              "        \n",
              "  <svg xmlns=\"http://www.w3.org/2000/svg\" height=\"24px\"viewBox=\"0 0 24 24\"\n",
              "       width=\"24px\">\n",
              "    <path d=\"M0 0h24v24H0V0z\" fill=\"none\"/>\n",
              "    <path d=\"M18.56 5.44l.94 2.06.94-2.06 2.06-.94-2.06-.94-.94-2.06-.94 2.06-2.06.94zm-11 1L8.5 8.5l.94-2.06 2.06-.94-2.06-.94L8.5 2.5l-.94 2.06-2.06.94zm10 10l.94 2.06.94-2.06 2.06-.94-2.06-.94-.94-2.06-.94 2.06-2.06.94z\"/><path d=\"M17.41 7.96l-1.37-1.37c-.4-.4-.92-.59-1.43-.59-.52 0-1.04.2-1.43.59L10.3 9.45l-7.72 7.72c-.78.78-.78 2.05 0 2.83L4 21.41c.39.39.9.59 1.41.59.51 0 1.02-.2 1.41-.59l7.78-7.78 2.81-2.81c.8-.78.8-2.07 0-2.86zM5.41 20L4 18.59l7.72-7.72 1.47 1.35L5.41 20z\"/>\n",
              "  </svg>\n",
              "      </button>\n",
              "      \n",
              "  <style>\n",
              "    .colab-df-container {\n",
              "      display:flex;\n",
              "      flex-wrap:wrap;\n",
              "      gap: 12px;\n",
              "    }\n",
              "\n",
              "    .colab-df-convert {\n",
              "      background-color: #E8F0FE;\n",
              "      border: none;\n",
              "      border-radius: 50%;\n",
              "      cursor: pointer;\n",
              "      display: none;\n",
              "      fill: #1967D2;\n",
              "      height: 32px;\n",
              "      padding: 0 0 0 0;\n",
              "      width: 32px;\n",
              "    }\n",
              "\n",
              "    .colab-df-convert:hover {\n",
              "      background-color: #E2EBFA;\n",
              "      box-shadow: 0px 1px 2px rgba(60, 64, 67, 0.3), 0px 1px 3px 1px rgba(60, 64, 67, 0.15);\n",
              "      fill: #174EA6;\n",
              "    }\n",
              "\n",
              "    [theme=dark] .colab-df-convert {\n",
              "      background-color: #3B4455;\n",
              "      fill: #D2E3FC;\n",
              "    }\n",
              "\n",
              "    [theme=dark] .colab-df-convert:hover {\n",
              "      background-color: #434B5C;\n",
              "      box-shadow: 0px 1px 3px 1px rgba(0, 0, 0, 0.15);\n",
              "      filter: drop-shadow(0px 1px 2px rgba(0, 0, 0, 0.3));\n",
              "      fill: #FFFFFF;\n",
              "    }\n",
              "  </style>\n",
              "\n",
              "      <script>\n",
              "        const buttonEl =\n",
              "          document.querySelector('#df-1acaa047-4385-4f6d-a90f-7933565b7eb4 button.colab-df-convert');\n",
              "        buttonEl.style.display =\n",
              "          google.colab.kernel.accessAllowed ? 'block' : 'none';\n",
              "\n",
              "        async function convertToInteractive(key) {\n",
              "          const element = document.querySelector('#df-1acaa047-4385-4f6d-a90f-7933565b7eb4');\n",
              "          const dataTable =\n",
              "            await google.colab.kernel.invokeFunction('convertToInteractive',\n",
              "                                                     [key], {});\n",
              "          if (!dataTable) return;\n",
              "\n",
              "          const docLinkHtml = 'Like what you see? Visit the ' +\n",
              "            '<a target=\"_blank\" href=https://colab.research.google.com/notebooks/data_table.ipynb>data table notebook</a>'\n",
              "            + ' to learn more about interactive tables.';\n",
              "          element.innerHTML = '';\n",
              "          dataTable['output_type'] = 'display_data';\n",
              "          await google.colab.output.renderOutput(dataTable, element);\n",
              "          const docLink = document.createElement('div');\n",
              "          docLink.innerHTML = docLinkHtml;\n",
              "          element.appendChild(docLink);\n",
              "        }\n",
              "      </script>\n",
              "    </div>\n",
              "  </div>\n",
              "  "
            ]
          },
          "metadata": {},
          "execution_count": 56
        }
      ]
    },
    {
      "cell_type": "code",
      "source": [
        "plt.contour(data);\n",
        "plt.colorbar()"
      ],
      "metadata": {
        "colab": {
          "base_uri": "https://localhost:8080/",
          "height": 286
        },
        "id": "5LMsQ8vbR-0g",
        "outputId": "cd7527fa-caa9-4ac4-b223-6c169ec8314d"
      },
      "execution_count": 62,
      "outputs": [
        {
          "output_type": "execute_result",
          "data": {
            "text/plain": [
              "<matplotlib.colorbar.Colorbar at 0x7f2fa8a54750>"
            ]
          },
          "metadata": {},
          "execution_count": 62
        },
        {
          "output_type": "display_data",
          "data": {
            "text/plain": [
              "<Figure size 432x288 with 2 Axes>"
            ],
            "image/png": "[encoded data removed]"
          },
          "metadata": {
            "needs_background": "light"
          }
        }
      ]
    }
  ]
}